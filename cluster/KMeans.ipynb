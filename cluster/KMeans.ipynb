{
 "cells": [
  {
   "cell_type": "code",
   "execution_count": 16,
   "id": "3ca461f3",
   "metadata": {},
   "outputs": [],
   "source": [
    "import numpy as np\n",
    "from sklearn.datasets import load_iris\n",
    "from sklearn.metrics.pairwise import euclidean_distances\n",
    "from sklearn.cluster import KMeans as skKMeans"
   ]
  },
  {
   "cell_type": "code",
   "execution_count": 17,
   "id": "b6565d16",
   "metadata": {},
   "outputs": [],
   "source": [
    "class KMeans:\n",
    "    \"\"\"KMeans algorithm for cluster\n",
    "    \"\"\"\n",
    "    def __init__(self, n_clusters=8, \n",
    "                 max_iter=300, tol=1e-4, random_state=0):\n",
    "        self.n_clusters = n_clusters\n",
    "        self.max_iter = max_iter\n",
    "        self.tol = tol\n",
    "        self.random_state = random_state\n",
    "        \n",
    "    def _inertia(self, X, centroids):\n",
    "        \"\"\"Computing the inertia(within-cluster sum-of-squares\n",
    "        criterion) given the centroids\n",
    "        \n",
    "        Parameters:\n",
    "        ----------\n",
    "        X: array-like of shape (n_samples, n_features)\n",
    "        \n",
    "        centroids: array-like of shape (n_clusters, n_features)\n",
    "        \n",
    "        Returns:\n",
    "        --------\n",
    "        new_centroids: array-like of shape (n_clusters, n_features)\n",
    "        \n",
    "        inertia: float\n",
    "        \"\"\"\n",
    "        dist = np.square(euclidean_distances(X, centroids))\n",
    "        labels = np.argmin(dist, axis=1)\n",
    "        inertia = np.sum(np.amin(dist, axis=1))\n",
    "        new_centroids = np.zeros((self.n_clusters, X.shape[1]))\n",
    "        for i in range(self.n_clusters):\n",
    "            X_c = X[labels==i]\n",
    "            new_centroids[i] = np.mean(X_c, axis=0)\n",
    "        \n",
    "        return new_centroids, labels, inertia\n",
    "        \n",
    "        \n",
    "    def fit(self, X):\n",
    "        \"\"\"Fit to the data\n",
    "        Parameters:\n",
    "        -----------\n",
    "        X: array-like of shape (n_samples, n_features)\n",
    "            Input data\n",
    "        \"\"\"\n",
    "        rng = np.random.RandomState(self.random_state)\n",
    "        centroids = X[rng.permutation(X.shape[0])[:self.n_clusters]]\n",
    "        for i in range(self.max_iter):\n",
    "            old_centroids = centroids.copy()\n",
    "            centroids, labels, inertia = self._inertia(X, centroids)\n",
    "            centroids_shift = np.sum(np.square(centroids - old_centroids))\n",
    "            if centroids_shift < self.tol:\n",
    "                break\n",
    "        self.labels_ = labels\n",
    "        self.cluster_centers_ = centroids\n",
    "        self.inertia_ = inertia\n",
    "        self.n_iter = i + 1\n",
    "        return self\n",
    "    \n",
    "    def predict(self, X):\n",
    "        return self._inertia(X, self.cluster_centers_)[1]"
   ]
  },
  {
   "cell_type": "code",
   "execution_count": 18,
   "id": "79139e83",
   "metadata": {},
   "outputs": [],
   "source": [
    "X = np.array([[1, 2], [1, 4], [1, 0], [10, 2], [10, 4], [10, 0]])\n",
    "kmeans = KMeans(n_clusters=2, random_state=0).fit(X)"
   ]
  },
  {
   "cell_type": "code",
   "execution_count": 19,
   "id": "07aa54cd",
   "metadata": {},
   "outputs": [
    {
     "data": {
      "text/plain": [
       "array([1, 1, 1, 0, 0, 0], dtype=int64)"
      ]
     },
     "execution_count": 19,
     "metadata": {},
     "output_type": "execute_result"
    }
   ],
   "source": [
    "kmeans.labels_"
   ]
  },
  {
   "cell_type": "code",
   "execution_count": 20,
   "id": "16f63299",
   "metadata": {},
   "outputs": [
    {
     "data": {
      "text/plain": [
       "array([[10.,  2.],\n",
       "       [ 1.,  2.]])"
      ]
     },
     "execution_count": 20,
     "metadata": {},
     "output_type": "execute_result"
    }
   ],
   "source": [
    "kmeans.cluster_centers_"
   ]
  },
  {
   "cell_type": "code",
   "execution_count": 23,
   "id": "eba6e2a7",
   "metadata": {},
   "outputs": [
    {
     "data": {
      "text/plain": [
       "array([1, 0], dtype=int64)"
      ]
     },
     "execution_count": 23,
     "metadata": {},
     "output_type": "execute_result"
    }
   ],
   "source": [
    "kmeans.predict(np.array([[0, 0], [12, 3]]))"
   ]
  },
  {
   "cell_type": "code",
   "execution_count": null,
   "id": "6413cd24",
   "metadata": {},
   "outputs": [],
   "source": []
  }
 ],
 "metadata": {
  "kernelspec": {
   "display_name": "Python 3 (ipykernel)",
   "language": "python",
   "name": "python3"
  },
  "language_info": {
   "codemirror_mode": {
    "name": "ipython",
    "version": 3
   },
   "file_extension": ".py",
   "mimetype": "text/x-python",
   "name": "python",
   "nbconvert_exporter": "python",
   "pygments_lexer": "ipython3",
   "version": "3.7.10"
  }
 },
 "nbformat": 4,
 "nbformat_minor": 5
}
