{
 "cells": [
  {
   "cell_type": "code",
   "execution_count": 7,
   "id": "90411568",
   "metadata": {},
   "outputs": [],
   "source": [
    "import numpy as np\n",
    "from scipy import linalg\n",
    "from sklearn.datasets import load_boston\n",
    "from sklearn.linear_model import LinearRegression as skLinearRegression"
   ]
  },
  {
   "cell_type": "code",
   "execution_count": 8,
   "id": "6b445a4e",
   "metadata": {},
   "outputs": [],
   "source": [
    "class LinearRegression:\n",
    "    \"\"\" Linear regression solver implemented with SVD\n",
    "    \"\"\"\n",
    "    def fit(self, X, y):\n",
    "        X_train = np.concatenate((np.full((X.shape[0], 1), 1), X), axis=1)\n",
    "        U, s, Vh = linalg.svd(X_train, full_matrices=False)\n",
    "        X_dag = np.dot(np.dot(Vh.T, np.diag(1/s)), U.T)\n",
    "        w = np.dot(X_dag, y)\n",
    "        self.coef_ = w[1:]\n",
    "        self.intercept_ = w[0]\n",
    "        return self\n",
    "    \n",
    "    def predict(self, X):\n",
    "        y_pred = np.dot(X, self.coef_) + self.intercept_\n",
    "        return y_pred"
   ]
  },
  {
   "cell_type": "code",
   "execution_count": 9,
   "id": "2c751d01",
   "metadata": {},
   "outputs": [],
   "source": [
    "# Example\n",
    "X, y = load_boston(return_X_y=True)\n",
    "reg1 = LinearRegression().fit(X, y)\n",
    "reg2 = skLinearRegression().fit(X, y)\n",
    "assert np.allclose(reg1.coef_, reg2.coef_)\n",
    "assert np.isclose(reg1.intercept_, reg2.intercept_)\n",
    "pred1 = reg1.predict(X)\n",
    "pred2 = reg2.predict(X)\n",
    "assert np.allclose(pred1, pred2)"
   ]
  }
 ],
 "metadata": {
  "kernelspec": {
   "display_name": "Python 3",
   "language": "python",
   "name": "python3"
  },
  "language_info": {
   "codemirror_mode": {
    "name": "ipython",
    "version": 3
   },
   "file_extension": ".py",
   "mimetype": "text/x-python",
   "name": "python",
   "nbconvert_exporter": "python",
   "pygments_lexer": "ipython3",
   "version": "3.7.10"
  }
 },
 "nbformat": 4,
 "nbformat_minor": 5
}
