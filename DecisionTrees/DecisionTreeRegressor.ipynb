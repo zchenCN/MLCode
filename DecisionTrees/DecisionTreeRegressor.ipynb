{
 "cells": [
  {
   "cell_type": "code",
   "execution_count": 7,
   "id": "35c2f898",
   "metadata": {},
   "outputs": [],
   "source": [
    "import numpy as np"
   ]
  },
  {
   "cell_type": "code",
   "execution_count": 8,
   "id": "72cd36a7",
   "metadata": {},
   "outputs": [],
   "source": [
    "class Node:\n",
    "    \"\"\"Node in decision tree\n",
    "    \"\"\"\n",
    "    def __init__(self, feature=None, threshold=None, left=None, right=None, var_red=None, value=None):\n",
    "        # Internal node\n",
    "        self.feature = feature\n",
    "        self.threshold = threshold\n",
    "        self.left = left\n",
    "        self.right = right\n",
    "        self.var_red = var_red # Variance reduction\n",
    "        \n",
    "        # Leaf node \n",
    "        self.value = value"
   ]
  },
  {
   "cell_type": "code",
   "execution_count": 9,
   "id": "db386c1b",
   "metadata": {},
   "outputs": [],
   "source": [
    "class DecisionTreeRegressor:\n",
    "    \"\"\"Decision tree regressor\n",
    "    \n",
    "    Attributes:\n",
    "    -----------\n",
    "    max_depth: int, default to None\n",
    "        The maximum depth of the tree\n",
    "\n",
    "    min_samples_split: int, default=2\n",
    "        The minimum number of samples required to split an internal node\n",
    "    \"\"\"\n",
    "    def __init__(self, max_depth=3, min_samples_split=2):\n",
    "        self.root = None\n",
    "        self.max_depth = max_depth\n",
    "        self.min_samples_split = min_samples_split\n",
    "        \n",
    "    def _calulate_leaf_value(self, y):\n",
    "        return np.mean(y)\n",
    "        \n",
    "    def _variance_reduction(self, parent, left, right):\n",
    "        left_weight = len(left) / len(parent)\n",
    "        right_weight = len(right) / len(parent)\n",
    "        var_red = np.var(parent) - left_weight * np.var(left) - right_weight * np.var(right)\n",
    "        return var_red\n",
    "    \n",
    "    def _split(self, X, y, feature, threshold):\n",
    "        left = (X[:, feature] <= threshold)\n",
    "        right = (X[:, feature] > threshold)\n",
    "        X_left = X[left]\n",
    "        X_right = X[right]\n",
    "        y_left = y[left]\n",
    "        y_right = y[right]\n",
    "        return X_left, y_left, X_right, y_right\n",
    "    \n",
    "    def _get_best_split(self, X, y):\n",
    "        \"\"\"Find the best split\n",
    "        \"\"\"\n",
    "        best_split = dict()\n",
    "        n_features = X.shape[1]\n",
    "        max_var_red = -float(\"inf\")\n",
    "        \n",
    "        # Loop over all features\n",
    "        for feature in range(n_features):\n",
    "            feature_values = X[:, feature]\n",
    "            possible_thresholds = np.unique(feature_values)\n",
    "            \n",
    "            # Loop over all possible features\n",
    "            for threshold in possible_thresholds:\n",
    "                X_left, y_left, X_right, y_right = self._split(X, y, feature, threshold) # Current split\n",
    "                if len(y_left) > 0 and len(y_right) > 0: \n",
    "                    current_var_red = self._variance_reduction(y, y_left, y_right)\n",
    "                    if current_var_red > max_var_red:\n",
    "                        max_var_red = current_var_red\n",
    "                        best_split['feature'] = feature \n",
    "                        best_split['threshold'] = threshold\n",
    "                        best_split['X_left'] = X_left\n",
    "                        best_split['y_left'] = y_left\n",
    "                        best_split['X_right'] = X_right\n",
    "                        best_split['y_right'] = y_right\n",
    "                        best_split['var_red'] = current_var_red\n",
    "        return best_split\n",
    "    \n",
    "    def _build_tree(self, X, y, current_depth):\n",
    "        \"\"\"Build the tree recursively\n",
    "        \"\"\"\n",
    "        n_samples, n_features = X.shape\n",
    "\n",
    "        # Stoppig condition\n",
    "        if n_samples >= self.min_samples_split and  current_depth < self.max_depth:\n",
    "            best_split = self._get_best_split(X, y) # Find the best split\n",
    "            if best_split['var_red'] >= 0:\n",
    "                left_subtree = self._build_tree(best_split['X_left'], best_split['y_left'], current_depth+1) # Build left sub-tree\n",
    "                right_subtree = self._build_tree(best_split['X_right'], best_split['y_right'], current_depth+1) # Build rigth sub-tree\n",
    "                \n",
    "                return Node(best_split['feature'], best_split['threshold'], \n",
    "                           left_subtree, right_subtree, best_split['var_red'])\n",
    "            \n",
    "        leaf_value = self._calulate_leaf_value(y)\n",
    "        return Node(value=leaf_value)\n",
    "        \n",
    "    def fit(self, X, y):\n",
    "        \"\"\"Train the data to build tree\n",
    "        \"\"\"\n",
    "        self.root = self._build_tree(X, y, current_depth=0)\n",
    "        \n",
    "    def _make_prediction(self, tree, x):\n",
    "        if tree.value != None:\n",
    "            return tree.value\n",
    "        feature_x = x[tree.feature]\n",
    "        if feature_x <= tree.threshold:\n",
    "            return self._make_prediction(tree.left, x)\n",
    "        else:\n",
    "            return self._make_prediction(tree.right, x)\n",
    "        \n",
    "    def predict(self, X):\n",
    "        \"\"\"Predict labels for new data\n",
    "        \"\"\"\n",
    "        predictions = [self._make_prediction(self.root, x) for x in X]\n",
    "        return np.array(predictions, dtype=np.int)"
   ]
  },
  {
   "cell_type": "code",
   "execution_count": 10,
   "id": "c4675ea4",
   "metadata": {},
   "outputs": [],
   "source": [
    "# Test\n",
    "from sklearn.datasets import load_boston\n",
    "from sklearn.metrics import mean_squared_error\n",
    "from sklearn.model_selection import train_test_split\n",
    "X, y = load_boston(return_X_y=True)\n",
    "X_train, X_test, y_train, y_test = train_test_split(X, y)"
   ]
  },
  {
   "cell_type": "code",
   "execution_count": 14,
   "id": "077f838d",
   "metadata": {},
   "outputs": [
    {
     "data": {
      "text/plain": [
       "22.26417322834646"
      ]
     },
     "execution_count": 14,
     "metadata": {},
     "output_type": "execute_result"
    }
   ],
   "source": [
    "reg1 = DecisionTreeRegressor()\n",
    "reg1.fit(X_train, y_train)\n",
    "y_pred = reg1.predict(X_test)\n",
    "mean_squared_error(y_pred, y_test)"
   ]
  },
  {
   "cell_type": "code",
   "execution_count": 15,
   "id": "2941606f",
   "metadata": {},
   "outputs": [
    {
     "data": {
      "text/plain": [
       "17.082755905511807"
      ]
     },
     "execution_count": 15,
     "metadata": {},
     "output_type": "execute_result"
    }
   ],
   "source": [
    "from sklearn import tree\n",
    "reg2 = tree.DecisionTreeRegressor()\n",
    "reg2.fit(X_train, y_train)\n",
    "y_pred = reg2.predict(X_test)\n",
    "mean_squared_error(y_pred, y_test)"
   ]
  },
  {
   "cell_type": "code",
   "execution_count": null,
   "id": "bb2f6470",
   "metadata": {},
   "outputs": [],
   "source": []
  }
 ],
 "metadata": {
  "kernelspec": {
   "display_name": "Python 3 (ipykernel)",
   "language": "python",
   "name": "python3"
  },
  "language_info": {
   "codemirror_mode": {
    "name": "ipython",
    "version": 3
   },
   "file_extension": ".py",
   "mimetype": "text/x-python",
   "name": "python",
   "nbconvert_exporter": "python",
   "pygments_lexer": "ipython3",
   "version": "3.7.10"
  }
 },
 "nbformat": 4,
 "nbformat_minor": 5
}
