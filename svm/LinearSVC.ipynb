{
 "cells": [
  {
   "cell_type": "code",
   "execution_count": 64,
   "id": "0f112e1e",
   "metadata": {},
   "outputs": [],
   "source": [
    "import numpy as np \n",
    "from scipy.optimize import minimize"
   ]
  },
  {
   "cell_type": "code",
   "execution_count": 65,
   "id": "dd66bf30",
   "metadata": {},
   "outputs": [],
   "source": [
    "class LinearSVC:\n",
    "    \"\"\"Linear support vector machine classifier solved by minimize\n",
    "    the regularized hinge loss\n",
    "\n",
    "    Attribute:\n",
    "    ----------\n",
    "    C: float, default=1.0\n",
    "        Regularization parameter\n",
    "    \"\"\"\n",
    "    def __init__(self, C=1.0):\n",
    "        self.C = C\n",
    "\n",
    "    @staticmethod\n",
    "    def _cost_grad(w, X, y, C):\n",
    "        \"\"\"Compute the loss of linear SVM\n",
    "        \"\"\"\n",
    "        n = X.shape[0]\n",
    "        X_train = np.c_[X, np.ones(n)]\n",
    "        # Hinge loss\n",
    "        distance = 1 - y * np.dot(X_train, w)\n",
    "        mask = (distance <= 0)\n",
    "        distance[mask] = 0\n",
    "        hinge_loss = np.sum(distance)\n",
    "        loss = 0.5 * np.dot(w, w) + C * hinge_loss\n",
    "        y[mask] = 0\n",
    "        grad = w - C * np.sum(y*X_train.T, axis=1) \n",
    "        return loss, grad\n",
    "\n",
    "    def fit(self, X, y):\n",
    "        d = X.shape[1]\n",
    "        w0 = np.zeros(d + 1)\n",
    "        res = minimize(self._cost_grad, jac=True, x0=w0, \n",
    "                    args=(X, y, self.C), method='L-BFGS-B')\n",
    "        w = res.x\n",
    "        self.coef_ = w[:-1]\n",
    "        self.intercept_ = w[-1]\n",
    "\n",
    "    def predict(self, X):\n",
    "        y = np.dot(X, self.coef_) + self.intercept_\n",
    "        positive = y > 0\n",
    "        negtive = y <= 0\n",
    "        y[positive] = 1\n",
    "        y[negtive] = -1\n",
    "        return y"
   ]
  },
  {
   "cell_type": "code",
   "execution_count": 66,
   "id": "13f21489",
   "metadata": {},
   "outputs": [],
   "source": [
    "# Test\n",
    "from sklearn.datasets import load_breast_cancer\n",
    "from sklearn.model_selection import train_test_split\n",
    "from sklearn.metrics import accuracy_score\n",
    "X, y = load_breast_cancer(return_X_y=True)\n",
    "X_train, X_test, y_train, y_test = train_test_split(X, y)\n",
    "y_train[y_train==0] = -1\n",
    "y_test[y_test==0] = -1"
   ]
  },
  {
   "cell_type": "code",
   "execution_count": 67,
   "id": "3b864964",
   "metadata": {},
   "outputs": [
    {
     "data": {
      "text/plain": [
       "0.6433566433566433"
      ]
     },
     "execution_count": 67,
     "metadata": {},
     "output_type": "execute_result"
    }
   ],
   "source": [
    "cls1 = LinearSVC(C=100.0)\n",
    "cls1.fit(X, y)\n",
    "y_pred = cls1.predict(X_test)\n",
    "accuracy_score(y_test, y_pred)"
   ]
  },
  {
   "cell_type": "code",
   "execution_count": 68,
   "id": "ee14191d",
   "metadata": {},
   "outputs": [
    {
     "data": {
      "text/plain": [
       "0.35664335664335667"
      ]
     },
     "execution_count": 68,
     "metadata": {},
     "output_type": "execute_result"
    }
   ],
   "source": [
    "from sklearn.svm import LinearSVC as skLinearSVC\n",
    "cls2 =skLinearSVC\n",
    "cls1.fit(X, y)\n",
    "y_pred = cls1.predict(X_test)\n",
    "accuracy_score(y_test, y_pred)"
   ]
  }
 ],
 "metadata": {
  "kernelspec": {
   "display_name": "Python 3 (ipykernel)",
   "language": "python",
   "name": "python3"
  },
  "language_info": {
   "codemirror_mode": {
    "name": "ipython",
    "version": 3
   },
   "file_extension": ".py",
   "mimetype": "text/x-python",
   "name": "python",
   "nbconvert_exporter": "python",
   "pygments_lexer": "ipython3",
   "version": "3.7.10"
  }
 },
 "nbformat": 4,
 "nbformat_minor": 5
}
