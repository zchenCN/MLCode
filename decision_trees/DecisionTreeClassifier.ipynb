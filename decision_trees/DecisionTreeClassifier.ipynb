{
 "cells": [
  {
   "cell_type": "code",
   "execution_count": 45,
   "id": "3dd6a4be",
   "metadata": {},
   "outputs": [],
   "source": [
    "import numpy as np"
   ]
  },
  {
   "cell_type": "code",
   "execution_count": 46,
   "id": "c7f19f93",
   "metadata": {},
   "outputs": [],
   "source": [
    "class Node:\n",
    "    \"\"\"Node in decision tree\n",
    "    \"\"\"\n",
    "    def __init__(self, feature=None, threshold=None, left=None, right=None, info_gain=None, value=None):\n",
    "        # Internal node\n",
    "        self.feature = feature\n",
    "        self.threshold = threshold\n",
    "        self.left = left\n",
    "        self.right = right\n",
    "        self.info_gain = info_gain\n",
    "        \n",
    "        # Leaf node \n",
    "        self.value = value"
   ]
  },
  {
   "cell_type": "code",
   "execution_count": 47,
   "id": "373183ca",
   "metadata": {},
   "outputs": [],
   "source": [
    "class DecisionTreeClassifier:\n",
    "    \"\"\" Decision tree classifier\n",
    "\n",
    "    Atrributes:\n",
    "    -----------\n",
    "    criterion: {'gini', 'entropy'}, default to 'gini'\n",
    "        The function to measure the quality of a split\n",
    "\n",
    "    max_depth: int, default to None\n",
    "        The maximum depth of the tree\n",
    "\n",
    "    min_samples_split: int, default=2\n",
    "        The minimum number of samples required to split an internal node\n",
    "    \"\"\"\n",
    "    def __init__(self, criterion='gini', max_depth=3, min_samples_split=2):\n",
    "\n",
    "        self.root = None\n",
    "        self.criterion = criterion\n",
    "        self.max_depth = max_depth\n",
    "        self.min_samples_split = min_samples_split\n",
    "        \n",
    "    def _calulate_leaf_value(self, y):\n",
    "        y = list(y)\n",
    "        return max(y, key=y.count)\n",
    "        \n",
    "    def _entropy(self, y):\n",
    "        labels, counts = np.unique(y, return_counts=True)\n",
    "        prob = counts / len(y)\n",
    "        entropy = -np.sum(prob * np.log2(prob))\n",
    "        return entropy\n",
    "    \n",
    "    def _gini_impurity(self, y):\n",
    "        labels, counts = np.unique(y, return_counts=True)\n",
    "        prob = counts / len(y)\n",
    "        gini = 1 - np.sum(np.square(prob))\n",
    "        return gini\n",
    "    \n",
    "    def _information_gain(self, parent, left, right, criterion):\n",
    "        \"\"\"Compute the information gain of a split\n",
    "        \"\"\"\n",
    "        left_weight = len(left) / len(parent)\n",
    "        right_weight = len(right) / len(parent)\n",
    "        if criterion == 'gini':\n",
    "            gain = self._gini_impurity(parent) - left_weight * self._gini_impurity(left)\\\n",
    "                - right_weight * self._gini_impurity(right)\n",
    "        elif criterion == 'entropy':\n",
    "            gain = self._entropy(parent) - left_weight * self._entropy(left)\\\n",
    "                - right_weight * self._entropy(right)\n",
    "        else:\n",
    "            raise ValueError('Criterion should be \"gini\" or \"entropy\"')\n",
    "        return gain \n",
    "    \n",
    "    def _split(self, X, y, feature, threshold):\n",
    "        left = (X[:, feature] <= threshold)\n",
    "        right = (X[:, feature] > threshold)\n",
    "        X_left = X[left]\n",
    "        X_right = X[right]\n",
    "        y_left = y[left]\n",
    "        y_right = y[right]\n",
    "        return X_left, y_left, X_right, y_right\n",
    "    \n",
    "    def _get_best_split(self, X, y, criterion):\n",
    "        \"\"\"Find the best split\n",
    "        \"\"\"\n",
    "        best_split = dict()\n",
    "        n_features = X.shape[1]\n",
    "        max_info_gain = -float(\"inf\")\n",
    "        \n",
    "        # Loop over all features\n",
    "        for feature in range(n_features):\n",
    "            feature_values = X[:, feature]\n",
    "            possible_thresholds = np.unique(feature_values)\n",
    "            \n",
    "            # Loop over all possible features\n",
    "            for threshold in possible_thresholds:\n",
    "                X_left, y_left, X_right, y_right = self._split(X, y, feature, threshold) # Current split\n",
    "                if len(y_left) > 0 and len(y_right) > 0: \n",
    "                    current_info_gain = self._information_gain(y, y_left, y_right, criterion)\n",
    "                    if current_info_gain > max_info_gain:\n",
    "                        max_info_gain = current_info_gain\n",
    "                        best_split['feature'] = feature \n",
    "                        best_split['threshold'] = threshold\n",
    "                        best_split['X_left'] = X_left\n",
    "                        best_split['y_left'] = y_left\n",
    "                        best_split['X_right'] = X_right\n",
    "                        best_split['y_right'] = y_right\n",
    "                        best_split['info_gain'] = current_info_gain   \n",
    "        return best_split\n",
    "    \n",
    "    def _build_tree(self, X, y, current_depth):\n",
    "        \"\"\"Build the tree recursively\n",
    "        \"\"\"\n",
    "        n_samples, n_features = X.shape\n",
    "\n",
    "        # Stoppig condition\n",
    "        if n_samples >= self.min_samples_split and  current_depth < self.max_depth:\n",
    "            best_split = self._get_best_split(X, y, self.criterion) # Find the best split\n",
    "            if best_split['info_gain'] >= 0:\n",
    "                left_subtree = self._build_tree(best_split['X_left'], best_split['y_left'], current_depth+1) # Build left sub-tree\n",
    "                right_subtree = self._build_tree(best_split['X_right'], best_split['y_right'], current_depth+1) # Build rigth sub-tree\n",
    "                \n",
    "                return Node(best_split['feature'], best_split['threshold'], \n",
    "                           left_subtree, right_subtree, best_split['info_gain'])\n",
    "            \n",
    "        leaf_value = self._calulate_leaf_value(y)\n",
    "        return Node(value=leaf_value)\n",
    "        \n",
    "    def fit(self, X, y):\n",
    "        \"\"\"Train the data to build tree\n",
    "        \"\"\"\n",
    "        self.root = self._build_tree(X, y, current_depth=0)\n",
    "        \n",
    "    def _make_prediction(self, tree, x):\n",
    "        if tree.value != None:\n",
    "            return tree.value\n",
    "        feature_x = x[tree.feature]\n",
    "        if feature_x <= tree.threshold:\n",
    "            return self._make_prediction(tree.left, x)\n",
    "        else:\n",
    "            return self._make_prediction(tree.right, x)\n",
    "        \n",
    "    def predict(self, X):\n",
    "        \"\"\"Predict labels for new data\n",
    "        \"\"\"\n",
    "        predictions = [self._make_prediction(self.root, x) for x in X]\n",
    "        return np.array(predictions, dtype=np.int)"
   ]
  },
  {
   "cell_type": "code",
   "execution_count": 48,
   "id": "aa469c61",
   "metadata": {},
   "outputs": [],
   "source": [
    "# Test\n",
    "from sklearn.datasets import load_iris\n",
    "from sklearn.model_selection import train_test_split\n",
    "from sklearn.metrics import accuracy_score\n",
    "X, y = load_iris(return_X_y=True)\n",
    "X_train, X_test, y_train, y_test = train_test_split(X, y)\n",
    "# X_train = np.array([[0, 0], [1, 1]])\n",
    "# y_train = np.array([0, 1])"
   ]
  },
  {
   "cell_type": "code",
   "execution_count": 49,
   "id": "3cfcc063",
   "metadata": {},
   "outputs": [
    {
     "data": {
      "text/plain": [
       "0.9736842105263158"
      ]
     },
     "execution_count": 49,
     "metadata": {},
     "output_type": "execute_result"
    }
   ],
   "source": [
    "cls1 = DecisionTreeClassifier(criterion='entropy', max_depth=3, min_samples_split=2)\n",
    "cls1.fit(X_train, y_train)\n",
    "preds = cls1.predict(X_test)\n",
    "accuracy_score(preds, y_test)"
   ]
  },
  {
   "cell_type": "code",
   "execution_count": 50,
   "id": "bf5ad2b8",
   "metadata": {},
   "outputs": [
    {
     "data": {
      "text/plain": [
       "0.9736842105263158"
      ]
     },
     "execution_count": 50,
     "metadata": {},
     "output_type": "execute_result"
    }
   ],
   "source": [
    "from sklearn import tree\n",
    "cls2 = tree.DecisionTreeClassifier(max_depth=3, min_samples_split=2)\n",
    "cls2.fit(X_train, y_train)\n",
    "preds = cls2.predict(X_test)\n",
    "accuracy_score(preds, y_test)"
   ]
  },
  {
   "cell_type": "code",
   "execution_count": null,
   "id": "d75185e2",
   "metadata": {},
   "outputs": [],
   "source": []
  }
 ],
 "metadata": {
  "kernelspec": {
   "display_name": "Python 3 (ipykernel)",
   "language": "python",
   "name": "python3"
  },
  "language_info": {
   "codemirror_mode": {
    "name": "ipython",
    "version": 3
   },
   "file_extension": ".py",
   "mimetype": "text/x-python",
   "name": "python",
   "nbconvert_exporter": "python",
   "pygments_lexer": "ipython3",
   "version": "3.7.10"
  }
 },
 "nbformat": 4,
 "nbformat_minor": 5
}
