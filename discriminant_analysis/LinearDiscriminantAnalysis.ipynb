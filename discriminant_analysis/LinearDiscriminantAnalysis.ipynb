{
 "cells": [
  {
   "cell_type": "code",
   "execution_count": 1,
   "id": "d5b9b933",
   "metadata": {},
   "outputs": [],
   "source": [
    "import numpy as np\n",
    "from scipy.linalg import lstsq"
   ]
  },
  {
   "cell_type": "code",
   "execution_count": 5,
   "id": "0938aa0b",
   "metadata": {},
   "outputs": [],
   "source": [
    "class LinearDiscriminantAnalysis:\n",
    "    \"\"\"Linear discriminant analysis\n",
    "    \"\"\"\n",
    "    def fit(self, X, y):\n",
    "        \"\"\"Fit LinearDiscriminatAnalysis model according to the given\n",
    "        training data\n",
    "        \n",
    "        Parameters:\n",
    "        -----------\n",
    "        X: array-like of shape (n_samples, n_features)\n",
    "            Training data\n",
    "            \n",
    "        y: array-like of shape (n_samples,)\n",
    "            Target values\n",
    "        \"\"\"\n",
    "        self.classes_ = np.unique(y)\n",
    "        n_classes = len(self.classes_)\n",
    "        n_features = X.shape[1]\n",
    "        self.priors_ = np.zeros(n_classes)\n",
    "        self.means_ = np.zeros((n_classes, n_features))\n",
    "        self.covariance_ = np.zeros((n_features, n_features))\n",
    "        for i, c in enumerate(self.classes_):\n",
    "            X_c = X[y == c]\n",
    "            self.means_[i] = np.mean(X_c, axis=0)\n",
    "            self.priors_[i] = len(X_c) / n_classes\n",
    "            self.covariance_ += self.priors_[i] + np.cov(X_c.T, bias=True)\n",
    "            \n",
    "        self.coef_ = lstsq(self.covariance_, self.means_.T)[0].T # Sigma-1 * w = mu_k \n",
    "        self.intercept_ = -0.5 * np.diag(np.dot(self.means_, self.coef_).T) + np.log(self.priors_)\n",
    "        if n_classes == 2:\n",
    "            self.coef_ = np.atleast_2d(self.coef_[0] - self.coef_[1])\n",
    "            self.intercept_ = np.atleast_1d(self.intercept_[0] - self.intercept_[1])\n",
    "            \n",
    "        return self\n",
    "    \n",
    "    \n",
    "    def decision_function(self, X):\n",
    "        scores = np.dot(X, self.coef_.T) + self.intercept_\n",
    "        if scores.shape[0] == 1:\n",
    "            return scores.ravel()\n",
    "        else:\n",
    "            return scores\n",
    "            \n",
    "        \n",
    "    def predict(self, X):\n",
    "        scores = self.decision_function(X)\n",
    "        if len(scores) == 1:\n",
    "            indices = 1 - (score>0).astype(int)\n",
    "        else:\n",
    "            indices = np.argmax(scores, axis=1)\n",
    "        return self.classes_[indices]"
   ]
  }
 ],
 "metadata": {
  "kernelspec": {
   "display_name": "Python 3",
   "language": "python",
   "name": "python3"
  },
  "language_info": {
   "codemirror_mode": {
    "name": "ipython",
    "version": 3
   },
   "file_extension": ".py",
   "mimetype": "text/x-python",
   "name": "python",
   "nbconvert_exporter": "python",
   "pygments_lexer": "ipython3",
   "version": "3.7.10"
  }
 },
 "nbformat": 4,
 "nbformat_minor": 5
}
