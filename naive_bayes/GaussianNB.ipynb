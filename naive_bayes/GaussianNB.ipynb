{
 "cells": [
  {
   "cell_type": "code",
   "execution_count": 21,
   "id": "0cc52649",
   "metadata": {},
   "outputs": [],
   "source": [
    "import numpy as np\n",
    "from sklearn.datasets import load_iris\n",
    "from sklearn.model_selection import train_test_split\n",
    "from sklearn.naive_bayes import GaussianNB as skGaussianNB"
   ]
  },
  {
   "cell_type": "code",
   "execution_count": 22,
   "id": "8336ed34",
   "metadata": {},
   "outputs": [
    {
     "name": "stdout",
     "output_type": "stream",
     "text": [
      "Number of mislabeled points out of a total 75 points : 4\n"
     ]
    }
   ],
   "source": [
    "# Example with GaussianNB from scikit-learn\n",
    "X, y = load_iris(return_X_y=True)\n",
    "X_train, X_test, y_train, y_test = train_test_split(X, y, test_size=0.5, random_state=0)\n",
    "skgnb = skGaussianNB()\n",
    "y_pred = skgnb.fit(X_train, y_train).predict(X_test)\n",
    "print(\"Number of mislabeled points out of a total %d points : %d\" % (X_test.shape[0], (y_test != y_pred).sum()))"
   ]
  },
  {
   "cell_type": "code",
   "execution_count": 23,
   "id": "1750a334",
   "metadata": {},
   "outputs": [],
   "source": [
    "# My implementation of GaussianNB\n",
    "# Reference https://scikit-learn.org/stable/modules/naive_bayes.html#gaussian-naive-bayes\n",
    "class GausssianNB():\n",
    "    def fit(self, X, y):\n",
    "        self.classes_ = np.unique(y) # class labels known to the classifier, (n_classes,)\n",
    "        n_features = X.shape[1]\n",
    "        n_classes = len(self.classes_)\n",
    "        self.class_count_ = np.zeros(n_classes) # number of traning samples observed in each class\n",
    "        self.sigma_ = np.zeros((n_classes, n_features)) # variance of each feature per class\n",
    "        self.theta_ = np.zeros((n_classes, n_features)) # mean of each feature per class\n",
    "        for i, c in enumerate(self.classes_):\n",
    "            X_c = X[y==c] # training examples observed in this class\n",
    "            self.class_count_[i] = len(X_c)\n",
    "            self.sigma_[i] = np.var(X_c, axis=0)\n",
    "            self.theta_[i] = np.mean(X_c, axis=0)\n",
    "        self.class_prior_ = self.class_count_ / np.sum(self.class_count_) # probability of each class\n",
    "        return self\n",
    "        \n",
    "    def _joint_log_likelyhood(self, X):\n",
    "        joint_log_likelyhood = np.zeros((X.shape[0], len(self.classes_)))\n",
    "        for i in range(len(self.classes_)):\n",
    "            p1 = np.log(self.class_prior_[i])\n",
    "            p2 = -0.5 * np.log(2 * np.pi * self.sigma_[i]) - 0.5 * (X - self.theta_[i]) ** 2 / self.sigma_[i]\n",
    "            joint_log_likelyhood[:, i] = p1 + np.sum(p2, axis=1)\n",
    "        return joint_log_likelyhood\n",
    "        \n",
    "    def predict(self, X):\n",
    "        joint_log_likelyhood = _joint_log_likelyhood(X)\n",
    "        return self.classes_[np.argmax(joint_log_likelyhood, axis=1)]"
   ]
  },
  {
   "cell_type": "code",
   "execution_count": 24,
   "id": "7351a28a",
   "metadata": {},
   "outputs": [
    {
     "name": "stdout",
     "output_type": "stream",
     "text": [
      "Number of mislabeled points out of a total 75 points : 4\n"
     ]
    }
   ],
   "source": [
    "gnb = GaussianNB()\n",
    "del y_pred\n",
    "y_pred = gnb.fit(X_train, y_train).predict(X_test)\n",
    "print(\"Number of mislabeled points out of a total %d points : %d\" % (X_test.shape[0], (y_test != y_pred).sum()))"
   ]
  }
 ],
 "metadata": {
  "kernelspec": {
   "display_name": "Python 3",
   "language": "python",
   "name": "python3"
  },
  "language_info": {
   "codemirror_mode": {
    "name": "ipython",
    "version": 3
   },
   "file_extension": ".py",
   "mimetype": "text/x-python",
   "name": "python",
   "nbconvert_exporter": "python",
   "pygments_lexer": "ipython3",
   "version": "3.7.10"
  }
 },
 "nbformat": 4,
 "nbformat_minor": 5
}
