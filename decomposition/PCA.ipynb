{
 "cells": [
  {
   "cell_type": "code",
   "execution_count": 1,
   "id": "b2fa202f",
   "metadata": {},
   "outputs": [],
   "source": [
    "import numpy as np\n",
    "from scipy.linalg import svd\n",
    "from sklearn.datasets import load_iris\n",
    "from sklearn.decomposition import PCA as skPCA\n",
    "import matplotlib.pyplot as plt\n",
    "%matplotlib inline"
   ]
  },
  {
   "cell_type": "code",
   "execution_count": 2,
   "id": "0ea321fd",
   "metadata": {},
   "outputs": [],
   "source": [
    "class PCA:\n",
    "    \"\"\"Principal component anylysis\n",
    "    \"\"\"\n",
    "    def __init__(self, n_components=None):\n",
    "        self.n_components_ = n_components\n",
    "        \n",
    "    def fit(self, X):\n",
    "        \"\"\"Fit the model with X\n",
    "        Parameters:\n",
    "        -----------\n",
    "        X: array-like of shape (n_samples, n_features)\n",
    "            Input data\n",
    "        \"\"\"\n",
    "        self.n_samples_, self.n_features_ = X.shape[0], X.shape[1]\n",
    "        if self.n_components_ == None:\n",
    "            self.n_components_ = min(self.n_samples_, self.n_features_)\n",
    "        self.mean_ = np.mean(X, axis=0)\n",
    "        X_train = X - self.mean_\n",
    "        U, s, V = svd(X_train, full_matrices=False)\n",
    "        self.components_ = V[:self.n_components_]\n",
    "        self.explained_variance_ = np.square(s[:self.n_components_])\n",
    "        self.explained_variance_ratio_ = self.explained_variance_ / np.square(np.sum(s))\n",
    "        return self\n",
    "    \n",
    "    def transform(self, X):\n",
    "        \"\"\"Apply dimensionality reduction to X\n",
    "        \"\"\"\n",
    "        X_train = X - self.mean_\n",
    "        return np.dot(X_train, self.components_.T)\n",
    "        "
   ]
  },
  {
   "cell_type": "code",
   "execution_count": 3,
   "id": "b90eb2aa",
   "metadata": {},
   "outputs": [],
   "source": [
    "X, _ = load_iris(return_X_y=True)\n",
    "pca1 = PCA(n_components=2).fit(X)\n",
    "Xt1 = pca1.transform(X)\n",
    "pca2 = skPCA(n_components=2).fit(X)\n",
    "Xt2 = pca2.transform(X)"
   ]
  },
  {
   "cell_type": "code",
   "execution_count": 4,
   "id": "21df8019",
   "metadata": {},
   "outputs": [],
   "source": [
    "for i in range(pca1.components_.shape[0]):\n",
    "    assert np.allclose(pca1.components_[i], pca2.components_[i]) or np.allclose(pca1.components_[i], -pca2.components_[i])"
   ]
  },
  {
   "cell_type": "code",
   "execution_count": 5,
   "id": "293ae3c0",
   "metadata": {},
   "outputs": [
    {
     "data": {
      "image/png": "[encoded data removed]",
      "text/plain": [
       "<Figure size 432x288 with 2 Axes>"
      ]
     },
     "metadata": {
      "needs_background": "light"
     },
     "output_type": "display_data"
    }
   ],
   "source": [
    "_, (ax1, ax2) = plt.subplots(1, 2)\n",
    "ax1.scatter(Xt1[:, 0], Xt1[:, 1])\n",
    "ax2.scatter(Xt2[:, 0], Xt2[:, 1])\n",
    "plt.show()"
   ]
  }
 ],
 "metadata": {
  "kernelspec": {
   "display_name": "Python 3 (ipykernel)",
   "language": "python",
   "name": "python3"
  },
  "language_info": {
   "codemirror_mode": {
    "name": "ipython",
    "version": 3
   },
   "file_extension": ".py",
   "mimetype": "text/x-python",
   "name": "python",
   "nbconvert_exporter": "python",
   "pygments_lexer": "ipython3",
   "version": "3.7.10"
  }
 },
 "nbformat": 4,
 "nbformat_minor": 5
}
